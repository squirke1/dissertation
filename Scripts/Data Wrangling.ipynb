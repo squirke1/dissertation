{
 "cells": [
  {
   "cell_type": "code",
   "execution_count": 1,
   "metadata": {},
   "outputs": [],
   "source": [
    "import os\n",
    "import math\n",
    "import random\n",
    "import numpy as np\n",
    "import pandas as pd\n",
    "from pandas import concat\n",
    "import matplotlib.pyplot as plt\n",
    "from keras.models import Sequential\n",
    "from keras.layers import Dense\n",
    "from keras.layers import LSTM\n",
    "from sklearn.preprocessing import MinMaxScaler\n",
    "from sklearn.metrics import mean_squared_error\n",
    "from mpl_toolkits.axisartist.axislines import Subplot\n",
    "from statsmodels.tsa.api import VAR\n",
    "from statsmodels.tsa.stattools import adfuller\n",
    "from statsmodels.tools.eval_measures import rmse, aic"
   ]
  },
  {
   "cell_type": "code",
   "execution_count": 9,
   "metadata": {},
   "outputs": [],
   "source": [
    "from math import sqrt\n",
    "from numpy import concatenate\n",
    "from matplotlib import pyplot\n",
    "from pandas import read_csv\n",
    "from pandas import DataFrame\n",
    "from pandas import concat\n",
    "from sklearn.preprocessing import MinMaxScaler\n",
    "from sklearn.preprocessing import LabelEncoder\n",
    "from sklearn.metrics import mean_squared_error\n",
    "from keras.models import Sequential\n",
    "from keras.layers import Dense\n",
    "from keras.layers import LSTM"
   ]
  },
  {
   "cell_type": "markdown",
   "metadata": {},
   "source": [
    "### Standard Deviation:\n",
    "\n",
    "Below details the standard deviation for the sample given that p = 0.25:\n",
    "    \n",
    "\n",
    "Variance:\n",
    "    \n",
    "$$ V(x) = \\bar{x}(1-p) \\;\\;\\;\\; V(x) = 3(0.75) \\;\\;\\;\\; V(x) = 2.25 $$\n",
    "\n",
    "Standard Deviation:\n",
    "\n",
    "$$ SD(x) = \\sqrt{V(x)} \\;\\;\\;\\; SD(x) = \\sqrt{2.25} \\;\\;\\;\\; SD(x) = 1.5 $$\n",
    "\n"
   ]
  },
  {
   "cell_type": "markdown",
   "metadata": {},
   "source": [
    "### Expected Value \n",
    "\n",
    "Below details the expected value (mean) for the sample:\n",
    "\n",
    "$$ \\bar{x} = \\frac{\\Sigma x}{n} \\;\\;\\;\\; \\bar{x} = \\frac{\\Sigma 12(0.25)}{12} \n",
    "\\;\\;\\;\\; \\bar{x} = \\frac{36}{12} \\;\\;\\;\\; \\bar{x} = 3 $$\n",
    "\n",
    "Below details the expected value (mean) for the popultion:\n",
    "    \n",
    "$$ \\mu = \\frac{\\Sigma x}{N} \\;\\;\\;\\; \\mu = \\frac{\\Sigma 1(0.25)}{1} \\;\\;\\;\\; \\mu = 0.25 $$"
   ]
  },
  {
   "cell_type": "markdown",
   "metadata": {},
   "source": [
    "Naive Bayes classifier for one word:\n",
    " \n",
    "$$ Pr(S|W)=\\frac{Pr(W|S) \\cdot Pr(S)}{Pr(W|S) \\cdot Pr(S) + Pr(W|H) \\cdot Pr(H)} $$\n",
    " \n",
    "S = SPAM, H = HAM, W = WORD\n",
    " \n",
    "Naive Bayes classifier for multiple words (email subject) determined by previous spam and ham as the training data set:\n",
    "\n",
    "$$ Pr(S|word 1,...,word_n)=\\frac{Pr(S)\\prod^n_{i=1} \\cdot Pr(word 1|S)}{Pr(S)\\prod^n_{i=1} \\cdot Pr(word 1|S) + Pr(H)\\prod^n_{i=1} \\cdot Pr(word 1|H)} $$"
   ]
  },
  {
   "cell_type": "markdown",
   "metadata": {},
   "source": [
    "Structural Var with p lags:\n",
    "    \n",
    "$$ \\Gamma_0 Y_t = \\delta + \\Gamma_1 Y_{t-1} + \\Gamma_2 Y_{t-2} + ... + \\Gamma_p Y_{t-p} + u_t $$"
   ]
  },
  {
   "cell_type": "markdown",
   "metadata": {},
   "source": [
    "Structural Var with p lags:\n",
    "    \n",
    "$$ Y_t = c + \\Phi_1 Y_{t-1} + \\Phi_2 Y_{t-2} + ... + \\Phi_p Y_{t-p} + \\epsilon_t $$"
   ]
  },
  {
   "cell_type": "markdown",
   "metadata": {},
   "source": [
    "import nasdaqdatalink\n",
    "mydata = nasdaqdatalink.get(\"FRED/GDP\")"
   ]
  },
  {
   "cell_type": "markdown",
   "metadata": {},
   "source": [
    "nasdaq_api_key = 'L3Yy6dcDRq3KQNVneEcY'"
   ]
  },
  {
   "cell_type": "markdown",
   "metadata": {},
   "source": [
    "quandl.get(\"MULTPL/SP500_REAL_PRICE_MONTH\", authtoken=\"L3Yy6dcDRq3KQNVneEcY\")"
   ]
  },
  {
   "cell_type": "markdown",
   "metadata": {},
   "source": [
    "### Clean Quarterly Data"
   ]
  },
  {
   "cell_type": "code",
   "execution_count": 10,
   "metadata": {},
   "outputs": [],
   "source": [
    "def import_data(filepath):\n",
    "    \"\"\"Import file using pandas library\"\"\"\n",
    "    dataframe = pd.read_csv(filepath, index_col=0)\n",
    "    return dataframe"
   ]
  },
  {
   "cell_type": "code",
   "execution_count": 11,
   "metadata": {},
   "outputs": [],
   "source": [
    "path = '/Data/Quarterly/'"
   ]
  },
  {
   "cell_type": "code",
   "execution_count": 12,
   "metadata": {},
   "outputs": [],
   "source": [
    "file = \"SP500 Quarterly 07012022.csv\""
   ]
  },
  {
   "cell_type": "code",
   "execution_count": 13,
   "metadata": {},
   "outputs": [],
   "source": [
    "filepath = path + file "
   ]
  },
  {
   "cell_type": "code",
   "execution_count": 14,
   "metadata": {},
   "outputs": [],
   "source": [
    "data = pd.read_csv(os.path.join(\"./Data/Quarterly/\",\"S&P500 Monthly Data 07012022.csv\"))"
   ]
  },
  {
   "cell_type": "code",
   "execution_count": 15,
   "metadata": {},
   "outputs": [
    {
     "name": "stdout",
     "output_type": "stream",
     "text": [
      "       Date     Price      Open      High       Low Vol. Change %\n",
      "0    Jan 22  4,693.30  4,781.00  4,817.88  4,662.75    -   -1.53%\n",
      "1    Dec 21  4,766.18  4,623.80  4,808.52  4,494.20    -    4.36%\n",
      "2    Nov 21  4,567.00  4,616.47  4,743.74  4,560.26    -   -0.83%\n",
      "3    Oct 21  4,605.38  4,324.71  4,608.70  4,278.70    -    6.91%\n",
      "4    Sep 21  4,307.54  4,531.04  4,544.58  4,304.90    -   -4.76%\n",
      "..      ...       ...       ...       ...       ...  ...      ...\n",
      "619  Jun 70     72.72     76.55     79.96     72.25    -   -5.00%\n",
      "620  May 70     76.55     81.52     82.32     68.61    -   -6.10%\n",
      "621  Apr 70     81.52     89.63     90.70     79.31    -   -9.05%\n",
      "622  Mar 70     89.63     89.50     91.07     86.19    -    0.15%\n",
      "623  Feb 70     89.50     85.02     90.33     84.64    -    5.27%\n",
      "\n",
      "[624 rows x 7 columns]\n"
     ]
    }
   ],
   "source": [
    "print(data)"
   ]
  },
  {
   "cell_type": "code",
   "execution_count": 17,
   "metadata": {},
   "outputs": [
    {
     "data": {
      "text/plain": [
       "Date        624\n",
       "Price       624\n",
       "Open        624\n",
       "High        624\n",
       "Low         624\n",
       "Vol.        624\n",
       "Change %    624\n",
       "dtype: int64"
      ]
     },
     "execution_count": 17,
     "metadata": {},
     "output_type": "execute_result"
    }
   ],
   "source": [
    "data.count()"
   ]
  },
  {
   "cell_type": "code",
   "execution_count": null,
   "metadata": {},
   "outputs": [],
   "source": [
    "quarters = [\"Jan\", \"Apr\", \"Jul\", \"Oct\"]"
   ]
  },
  {
   "cell_type": "code",
   "execution_count": null,
   "metadata": {},
   "outputs": [],
   "source": [
    "for row in data.iterrows():\n",
    "    print(row[1][0])"
   ]
  },
  {
   "cell_type": "code",
   "execution_count": 137,
   "metadata": {},
   "outputs": [],
   "source": [
    "data = data[~data.Date.str.contains('Feb')]\n",
    "data = data[~data.Date.str.contains('Mar')]\n",
    "data = data[~data.Date.str.contains('May')]\n",
    "data = data[~data.Date.str.contains('Jun')]\n",
    "data = data[~data.Date.str.contains('Aug')]\n",
    "data = data[~data.Date.str.contains('Sep')]\n",
    "data = data[~data.Date.str.contains('Nov')]\n",
    "data = data[~data.Date.str.contains('Dec')]"
   ]
  },
  {
   "cell_type": "code",
   "execution_count": 138,
   "metadata": {},
   "outputs": [
    {
     "name": "stdout",
     "output_type": "stream",
     "text": [
      "Jan 22\n",
      "Oct 21\n",
      "Jul 21\n",
      "Apr 21\n",
      "Jan 21\n",
      "Oct 20\n",
      "Jul 20\n",
      "Apr 20\n",
      "Jan 20\n",
      "Oct 19\n",
      "Jul 19\n",
      "Apr 19\n",
      "Jan 19\n",
      "Oct 18\n",
      "Jul 18\n",
      "Apr 18\n",
      "Jan 18\n",
      "Oct 17\n",
      "Jul 17\n",
      "Apr 17\n",
      "Jan 17\n",
      "Oct 16\n",
      "Jul 16\n",
      "Apr 16\n",
      "Jan 16\n",
      "Oct 15\n",
      "Jul 15\n",
      "Apr 15\n",
      "Jan 15\n",
      "Oct 14\n",
      "Jul 14\n",
      "Apr 14\n",
      "Jan 14\n",
      "Oct 13\n",
      "Jul 13\n",
      "Apr 13\n",
      "Jan 13\n",
      "Oct 12\n",
      "Jul 12\n",
      "Apr 12\n",
      "Jan 12\n",
      "Oct 11\n",
      "Jul 11\n",
      "Apr 11\n",
      "Jan 11\n",
      "Oct 10\n",
      "Jul 10\n",
      "Apr 10\n",
      "Jan 10\n",
      "Oct 09\n",
      "Jul 09\n",
      "Apr 09\n",
      "Jan 09\n",
      "Oct 08\n",
      "Jul 08\n",
      "Apr 08\n",
      "Jan 08\n",
      "Oct 07\n",
      "Jul 07\n",
      "Apr 07\n",
      "Jan 07\n",
      "Oct 06\n",
      "Jul 06\n",
      "Apr 06\n",
      "Jan 06\n",
      "Oct 05\n",
      "Jul 05\n",
      "Apr 05\n",
      "Jan 05\n",
      "Oct 04\n",
      "Jul 04\n",
      "Apr 04\n",
      "Jan 04\n",
      "Oct 03\n",
      "Jul 03\n",
      "Apr 03\n",
      "Jan 03\n",
      "Oct 02\n",
      "Jul 02\n",
      "Apr 02\n",
      "Jan 02\n",
      "Oct 01\n",
      "Jul 01\n",
      "Apr 01\n",
      "Jan 01\n",
      "Oct 00\n",
      "Jul 00\n",
      "Apr 00\n",
      "Jan 00\n",
      "Oct 99\n",
      "Jul 99\n",
      "Apr 99\n",
      "Jan 99\n",
      "Oct 98\n",
      "Jul 98\n",
      "Apr 98\n",
      "Jan 98\n",
      "Oct 97\n",
      "Jul 97\n",
      "Apr 97\n",
      "Jan 97\n",
      "Oct 96\n",
      "Jul 96\n",
      "Apr 96\n",
      "Jan 96\n",
      "Oct 95\n",
      "Jul 95\n",
      "Apr 95\n",
      "Jan 95\n",
      "Oct 94\n",
      "Jul 94\n",
      "Apr 94\n",
      "Jan 94\n",
      "Oct 93\n",
      "Jul 93\n",
      "Apr 93\n",
      "Jan 93\n",
      "Oct 92\n",
      "Jul 92\n",
      "Apr 92\n",
      "Jan 92\n",
      "Oct 91\n",
      "Jul 91\n",
      "Apr 91\n",
      "Jan 91\n",
      "Oct 90\n",
      "Jul 90\n",
      "Apr 90\n",
      "Jan 90\n",
      "Oct 89\n",
      "Jul 89\n",
      "Apr 89\n",
      "Jan 89\n",
      "Oct 88\n",
      "Jul 88\n",
      "Apr 88\n",
      "Jan 88\n",
      "Oct 87\n",
      "Jul 87\n",
      "Apr 87\n",
      "Jan 87\n",
      "Oct 86\n",
      "Jul 86\n",
      "Apr 86\n",
      "Jan 86\n",
      "Oct 85\n",
      "Jul 85\n",
      "Apr 85\n",
      "Jan 85\n",
      "Oct 84\n",
      "Jul 84\n",
      "Apr 84\n",
      "Jan 84\n",
      "Oct 83\n",
      "Jul 83\n",
      "Apr 83\n",
      "Jan 83\n",
      "Oct 82\n",
      "Jul 82\n",
      "Apr 82\n",
      "Jan 82\n",
      "Oct 81\n",
      "Jul 81\n",
      "Apr 81\n",
      "Jan 81\n",
      "Oct 80\n",
      "Jul 80\n",
      "Apr 80\n",
      "Jan 80\n",
      "Oct 79\n",
      "Jul 79\n",
      "Apr 79\n",
      "Jan 79\n",
      "Oct 78\n",
      "Jul 78\n",
      "Apr 78\n",
      "Jan 78\n",
      "Oct 77\n",
      "Jul 77\n",
      "Apr 77\n",
      "Jan 77\n",
      "Oct 76\n",
      "Jul 76\n",
      "Apr 76\n",
      "Jan 76\n",
      "Oct 75\n",
      "Jul 75\n",
      "Apr 75\n",
      "Jan 75\n",
      "Oct 74\n",
      "Jul 74\n",
      "Apr 74\n",
      "Jan 74\n",
      "Oct 73\n",
      "Jul 73\n",
      "Apr 73\n",
      "Jan 73\n",
      "Oct 72\n",
      "Jul 72\n",
      "Apr 72\n",
      "Jan 72\n",
      "Oct 71\n",
      "Jul 71\n",
      "Apr 71\n",
      "Jan 71\n",
      "Oct 70\n",
      "Jul 70\n",
      "Apr 70\n"
     ]
    }
   ],
   "source": [
    "for row in data.iterrows():\n",
    "    print(row[1][0])"
   ]
  },
  {
   "cell_type": "code",
   "execution_count": 139,
   "metadata": {},
   "outputs": [],
   "source": [
    "data.to_csv(os.path.join(\"./Data/Quarterly/\",\"S&P500 Quarterly Data 07012022.csv\"),index=False)"
   ]
  },
  {
   "cell_type": "markdown",
   "metadata": {},
   "source": [
    "### Clean Monthly Data"
   ]
  },
  {
   "cell_type": "code",
   "execution_count": null,
   "metadata": {},
   "outputs": [],
   "source": [
    "data = pd.read_csv(os.path.join(\"./Data/Quarterly/\",\"S&P500 Monthly Data 07012022.csv\"))"
   ]
  },
  {
   "cell_type": "code",
   "execution_count": null,
   "metadata": {},
   "outputs": [],
   "source": [
    "print(data)"
   ]
  },
  {
   "cell_type": "code",
   "execution_count": null,
   "metadata": {},
   "outputs": [],
   "source": [
    "data.count()"
   ]
  }
 ],
 "metadata": {
  "kernelspec": {
   "display_name": "Python 3",
   "language": "python",
   "name": "python3"
  },
  "language_info": {
   "codemirror_mode": {
    "name": "ipython",
    "version": 3
   },
   "file_extension": ".py",
   "mimetype": "text/x-python",
   "name": "python",
   "nbconvert_exporter": "python",
   "pygments_lexer": "ipython3",
   "version": "3.8.3"
  }
 },
 "nbformat": 4,
 "nbformat_minor": 4
}
